{
 "cells": [
  {
   "cell_type": "code",
   "execution_count": 3,
   "id": "cd235e26",
   "metadata": {},
   "outputs": [],
   "source": [
    "import pandas as pd\n",
    "import numpy as np\n",
    "from datetime import datetime\n",
    "from pytz import timezone\n",
    "import sqlite3"
   ]
  },
  {
   "cell_type": "code",
   "execution_count": 4,
   "id": "d28a98ac",
   "metadata": {},
   "outputs": [],
   "source": [
    "file1 = pd.read_csv(\"dataset/timezones_Detailed_588_Countries.csv\")\n",
    "file2 = pd.read_csv(\"dataset/timezones_Standard_Times.csv\")\n",
    "file3 = pd.read_excel(\"dataset/Time zones_404_Counries.xlsx\")"
   ]
  },
  {
   "cell_type": "code",
   "execution_count": 5,
   "id": "f8dd37b3",
   "metadata": {},
   "outputs": [],
   "source": [
    "file1_arr = file1.to_numpy()\n",
    "file2_arr = file2.to_numpy()\n",
    "file3_arr = file3.to_numpy()"
   ]
  },
  {
   "cell_type": "code",
   "execution_count": 10,
   "id": "09304cdb",
   "metadata": {},
   "outputs": [
    {
     "name": "stdout",
     "output_type": "stream",
     "text": [
      "Enter first name:\n",
      "John\n",
      "Enter last name:\n",
      "AJAYI\n",
      "Enter source country:\n",
      "NIGERIA\n",
      "Enter program type:\n",
      "MACHINE LEARNING\n",
      "22:27:16\n",
      "None\n"
     ]
    }
   ],
   "source": [
    "def time_converter(source_country):\n",
    "    target_country = source_country\n",
    "    for country in file3['Country Name']:\n",
    "        if country == target_country:\n",
    "            time_zone = file3['Time Zone'][file3['Country Name']==source_country].to_numpy()[0]\n",
    "            #print(time_zone.split()[0])\n",
    "            converted = datetime.now(timezone(time_zone))\n",
    "            now_time = converted.strftime(\"%H:%M:%S\")\n",
    "            print(now_time)\n",
    "\n",
    "        \n",
    "def user_details():\n",
    "    first_name = input(\"Enter first name:\\n\")\n",
    "    last_name = input(\"Enter last name:\\n\")\n",
    "    country = input(\"Enter source country:\\n\").capitalize()\n",
    "    bootcamp = input(\"Enter program type:\\n\")\n",
    "    print(time_converter(country))\n",
    "    return first_name, last_name, country, bootcamp\n",
    "    \n",
    "\n",
    "def calculate_time():\n",
    "    pass\n",
    "\n",
    "now = user_details()"
   ]
  },
  {
   "cell_type": "code",
   "execution_count": 11,
   "id": "9214dca6",
   "metadata": {},
   "outputs": [
    {
     "name": "stdout",
     "output_type": "stream",
     "text": [
      "[]\n"
     ]
    }
   ],
   "source": [
    "# class Employee:\n",
    "#     \"\"\"A sample Employee class\"\"\"\n",
    "\n",
    "#     def __init__(self, first, last, pay):\n",
    "#         self.first = first\n",
    "#         self.last = last\n",
    "#         self.pay = pay\n",
    "\n",
    "# conn = sqlite3.connect('employee.db')\n",
    "conn = sqlite3.connect('schdule.db')   #To set a connection to memory \n",
    "\n",
    "c = conn.cursor()\n",
    "\n",
    "# c.execute(\"\"\"CREATE TABLE schdule (\n",
    "#             first_name text,\n",
    "#             last_name text,\n",
    "#             bootcamp text,\n",
    "#             country text\n",
    "#             )\"\"\")\n",
    "\n",
    "def insert_emp(emp):\n",
    "    with conn:\n",
    "        c.execute(\"INSERT INTO schdule VALUES (:first_name, :last_name, :country, :bootcamp)\", \n",
    "              {'first_name':now[0], 'last_name':now[1], 'country':now[2], 'bootcamp':now[3]})\n",
    "\n",
    "def get_emps_by_name(lastname):\n",
    "    c.execute(\"SELECT * FROM schdule WHERE last_name=:last_name\", {'last_name':now[1]})\n",
    "    return c.fetchall()\n",
    "\n",
    "# def update_pay(emp, pay):\n",
    "#     with conn:\n",
    "#         c.execute(\"\"\"UPDATE schdule SET pay = :pay\n",
    "#                     WHERE first = :first AND last = :last\"\"\",\n",
    "#                   {'first':emp.first, 'last':emp.last, 'pay':pay})\n",
    "\n",
    "# def remove_emp(emp):\n",
    "#     with conn:\n",
    "#         c.execute(\"DELETE from schdule WHERE first = :first AND last = :last\",\n",
    "#                  {'first':emp.first, 'last':emp.last})\n",
    "\n",
    "\n",
    "# emp_1 = Employee('John', 'Doe', 80000)\n",
    "# emp_2 = Employee('Mary', 'Doe', 90000)\n",
    "\n",
    "# insert_emp(emp_1)\n",
    "# insert_emp(emp_2)\n",
    "\n",
    "# emps = get_emps_by_name('Doe')\n",
    "# print(emps)\n",
    "\n",
    "# update_pay(emp_2, 95000)\n",
    "# remove_emp(emp_1)\n",
    "now\n",
    "emps = get_emps_by_name('John')\n",
    "print(emps)\n",
    "\n",
    "conn.close()"
   ]
  },
  {
   "cell_type": "code",
   "execution_count": null,
   "id": "81e5b0bb",
   "metadata": {},
   "outputs": [],
   "source": []
  }
 ],
 "metadata": {
  "kernelspec": {
   "display_name": "Python 3 (ipykernel)",
   "language": "python",
   "name": "python3"
  },
  "language_info": {
   "codemirror_mode": {
    "name": "ipython",
    "version": 3
   },
   "file_extension": ".py",
   "mimetype": "text/x-python",
   "name": "python",
   "nbconvert_exporter": "python",
   "pygments_lexer": "ipython3",
   "version": "3.9.7"
  }
 },
 "nbformat": 4,
 "nbformat_minor": 5
}
